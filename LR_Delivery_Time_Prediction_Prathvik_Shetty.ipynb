{
 "cells": [
  {
   "cell_type": "markdown",
   "id": "e1e464c6",
   "metadata": {},
   "source": [
    "# LR Delivery Time Prediction - Final Submission\n",
    "\n",
    "**Student:** Prathvik Shetty"
   ]
  },
  {
   "cell_type": "code",
   "execution_count": null,
   "id": "66100fb5",
   "metadata": {},
   "outputs": [],
   "source": [
    "print('Run starter notebook to reproduce full analysis; report and selected features included in PDF.')"
   ]
  }
 ],
 "metadata": {},
 "nbformat": 4,
 "nbformat_minor": 5
}
